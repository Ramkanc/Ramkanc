{
  "nbformat": 4,
  "nbformat_minor": 0,
  "metadata": {
    "colab": {
      "provenance": []
    },
    "kernelspec": {
      "name": "python3",
      "display_name": "Python 3"
    },
    "language_info": {
      "name": "python"
    }
  },
  "cells": [
    {
      "cell_type": "markdown",
      "source": [
        "### Please follow the steps in the Pre-Hackathon Alexa Chatbot use the code accordingly, only purpose to copy and paste dont run on colab."
      ],
      "metadata": {
        "id": "AUUFwSTAka7e"
      }
    },
    {
      "cell_type": "code",
      "execution_count": null,
      "metadata": {
        "id": "jvLjc7dxkDrk"
      },
      "outputs": [],
      "source": [
        "import csv\n",
        "import requests\n",
        "import io\n",
        "import calendar"
      ]
    },
    {
      "cell_type": "code",
      "source": [
        "class LaunchRequestHandler(AbstractRequestHandler):\n",
        "    \"\"\"Handler for Skill Launch.\"\"\"\n",
        "    def can_handle(self, handler_input):\n",
        "        # type: (HandlerInput) -> bool\n",
        "\n",
        "        return ask_utils.is_request_type(\"LaunchRequest\")(handler_input)\n",
        "\n",
        "    def handle(self, handler_input):\n",
        "        # type: (HandlerInput) -> Response\n",
        "        speak_output = \"Hello! Welcome to zodic sign. Would you like to now your zodiac sign?\"\n",
        "        reprompt_text = \"I was born Nov. 6th, 2014. When were you born?\"\n",
        "\n",
        "        return (\n",
        "            handler_input.response_builder\n",
        "                .speak(speak_output)\n",
        "                .ask(reprompt_text)\n",
        "                .response\n",
        "        )"
      ],
      "metadata": {
        "id": "KQyxSRvTkL6T"
      },
      "execution_count": null,
      "outputs": []
    },
    {
      "cell_type": "code",
      "source": [
        "class CaptureZodiacSignIntentHandler(AbstractRequestHandler):\n",
        "    \"\"\"Handler for Hello World Intent.\"\"\"\n",
        "    def can_handle(self, handler_input):\n",
        "        # type: (HandlerInput) -> bool\n",
        "        return ask_utils.is_intent_name(\"CaptureZodiacSignIntent\")(handler_input)\n",
        "\n",
        "    def filter(self, X):\n",
        "        date = X.split()\n",
        "        month = date[0]\n",
        "        month_as_index = list(calendar.month_abbr).index(month[:3].title())\n",
        "        day = int(date[1])\n",
        "        return (month_as_index,day)\n",
        "\n",
        "    def handle(self, handler_input):\n",
        "        # type: (HandlerInput) -> Response\n",
        "        slots = handler_input.request_envelope.request.intent.slots\n",
        "        year = slots[\"year\"].value\n",
        "        month = slots[\"month\"].value\n",
        "        day = slots[\"day\"].value\n",
        "        url = \"https://docs.google.com/spreadsheets/d/e/2PACX-1vQvr5YePK4pXg0rUOZYEDCh_KMa8gG-E8o7sFjD_Ngww2L2mpXz6Olak7ARSzd9Ng/pub?gid=1494965002&single=true&output=csv\"\n",
        "        response = requests.get(url)\n",
        "        csv_content = response.content\n",
        "        row = csv_content.decode('utf-8').splitlines()\n",
        "        rows = row[1:] # excluding the first row\n",
        "\n",
        "        zodiac = ''\n",
        "        month_as_index = list(calendar.month_abbr).index(month[:3].title())\n",
        "        usr_dob = (month_as_index,int(day))\n",
        "        for sign in rows:\n",
        "            start, end , zodiac = sign.split(',')\n",
        "            if self.filter(start) <= usr_dob <= self.filter(end):\n",
        "                zodiac = zodiac\n",
        "                break\n",
        "\n",
        "        speak_output = 'I see you were born on the {day} of {month} {year}, which means that your zodiac sign will be {zodiac}.'.format(month=month, day=day, year=year, zodiac=zodiac)\n",
        "\n",
        "\n",
        "        return (\n",
        "            handler_input.response_builder\n",
        "                .speak(speak_output)\n",
        "                # .ask(\"add a reprompt if you want to keep the session open for the user to respond\")\n",
        "                .response\n",
        "        )"
      ],
      "metadata": {
        "id": "T_Eb3J6WkQzR"
      },
      "execution_count": null,
      "outputs": []
    },
    {
      "cell_type": "code",
      "source": [
        "sb = SkillBuilder()\n",
        "\n",
        "sb.add_request_handler(LaunchRequestHandler())\n",
        "sb.add_request_handler(CaptureZodiacSignIntentHandler())\n",
        "sb.add_request_handler(HelpIntentHandler())\n",
        "sb.add_request_handler(CancelOrStopIntentHandler())\n",
        "sb.add_request_handler(FallbackIntentHandler())\n",
        "sb.add_request_handler(SessionEndedRequestHandler())\n",
        "sb.add_request_handler(IntentReflectorHandler()) # make sure IntentReflectorHandler is last so it doesn't override your custom intent handlers\n",
        "\n",
        "sb.add_exception_handler(CatchAllExceptionHandler())\n",
        "\n",
        "lambda_handler = sb.lambda_handler()"
      ],
      "metadata": {
        "id": "59igrecTkZbc"
      },
      "execution_count": null,
      "outputs": []
    }
  ]
}